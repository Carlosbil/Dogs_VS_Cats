{
 "cells": [
  {
   "cell_type": "markdown",
   "id": "28d81eb0",
   "metadata": {},
   "source": [
    "# load data set images"
   ]
  },
  {
   "cell_type": "code",
   "execution_count": null,
   "id": "bbb2c76a",
   "metadata": {},
   "outputs": [],
   "source": [
    "from keras.preprocessing.image import ImageDataGenerator\n",
    "\n",
    "# inicializa el generador de imágenes\n",
    "datagen = ImageDataGenerator(rescale=1.0/255.0)\n",
    "\n",
    "# prepara iteradores para cada conjunto de datos\n",
    "train_it = datagen.flow_from_directory('train/',\n",
    "\tclass_mode='binary', batch_size=64, target_size=(200, 200))\n"
   ]
  }
 ],
 "metadata": {
  "kernelspec": {
   "display_name": "Python 3 (ipykernel)",
   "language": "python",
   "name": "python3"
  },
  "language_info": {
   "codemirror_mode": {
    "name": "ipython",
    "version": 3
   },
   "file_extension": ".py",
   "mimetype": "text/x-python",
   "name": "python",
   "nbconvert_exporter": "python",
   "pygments_lexer": "ipython3",
   "version": "3.11.4"
  }
 },
 "nbformat": 4,
 "nbformat_minor": 5
}
